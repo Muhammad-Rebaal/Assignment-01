{
 "cells": [
  {
   "cell_type": "markdown",
   "id": "35cf2c50-2e02-4272-9031-4cf5ca9cc8b3",
   "metadata": {},
   "source": [
    "# **1. Write a program to iterate the first 10 numbers, and in each iteration, print the sum of the current and previous number.**"
   ]
  },
  {
   "cell_type": "code",
   "execution_count": 1,
   "id": "589e2346-9e2b-4fa2-bfbf-91063f3bb46d",
   "metadata": {},
   "outputs": [
    {
     "name": "stdout",
     "output_type": "stream",
     "text": [
      "1\n",
      "3\n",
      "4\n",
      "5\n",
      "6\n",
      "7\n",
      "8\n",
      "9\n",
      "10\n",
      "11\n"
     ]
    }
   ],
   "source": [
    "for i in range(1,11):\n",
    "    if i == 1:\n",
    "        prev_number = i\n",
    "        print(i)\n",
    "    else:\n",
    "        current_number = prev_number + i\n",
    "        print(current_number)"
   ]
  },
  {
   "cell_type": "markdown",
   "id": "370e3aee-1fd2-466e-a6c8-b4111c17304b",
   "metadata": {},
   "source": [
    "# **2. Print the following pattern**\n",
    "\n",
    "1 \n",
    "\n",
    "2 2 \n",
    "\n",
    "3 3 3 \n",
    "\n",
    "4 4 4 4 \n",
    "\n",
    "5 5 5 5 5"
   ]
  },
  {
   "cell_type": "code",
   "execution_count": 2,
   "id": "1dd1b3b2-837d-4f1f-9c4d-cb347de8c175",
   "metadata": {},
   "outputs": [
    {
     "name": "stdout",
     "output_type": "stream",
     "text": [
      "1 \n",
      "2 2 \n",
      "3 3 3 \n",
      "4 4 4 4 \n",
      "5 5 5 5 5 \n"
     ]
    }
   ],
   "source": [
    "for i in range (1,6):\n",
    "    print((str(i)+\" \")*i)"
   ]
  },
  {
   "cell_type": "markdown",
   "id": "2f82b17b-f742-455a-836a-a2f3242bbac2",
   "metadata": {},
   "source": [
    "# **3. List is given below:**\n",
    "**numbers = [12, 75, 150, 180, 145, 525, 50]**\n",
    "\n",
    "Write a program to display only those numbers from a list that satisfy the following\n",
    "conditions:\n",
    "\n",
    "    i.   The number must be divisible by five\n",
    "    ii.  If the number is greater than 150, then skip it and move to the next number\n",
    "    iii. If the number is greater than 500, then stop the loop"
   ]
  },
  {
   "cell_type": "code",
   "execution_count": 3,
   "id": "160a6bbe-ac51-4445-90d8-719c977c4951",
   "metadata": {},
   "outputs": [
    {
     "name": "stdout",
     "output_type": "stream",
     "text": [
      "75\n",
      "150\n",
      "145\n"
     ]
    }
   ],
   "source": [
    "numbers = [12, 75, 150, 180, 145, 525, 50]\n",
    "\n",
    "for number in numbers:\n",
    "    if number % 5==0 :\n",
    "        if number > 500:\n",
    "            break;\n",
    "        elif number > 150:\n",
    "            continue;\n",
    "        else:\n",
    "            print(number)"
   ]
  },
  {
   "cell_type": "markdown",
   "id": "4d995e49-b8ec-434c-b2f2-439460c839a7",
   "metadata": {},
   "source": [
    "# **4. Display Fibonacci series up to 10 terms**\n",
    "The Fibonacci Sequence is a series of numbers. The next number is found by adding\n",
    "up the two numbers before it. The first two numbers are 0 and 1.\n",
    "\n",
    "For example, 0, 1, 1, 2, 3, 5, 8, 13, 21. The next number in this series above is\n",
    "13+21 = 34.\n"
   ]
  },
  {
   "cell_type": "code",
   "execution_count": 4,
   "id": "29473887-68ba-4dbf-87f2-f17deadd1c49",
   "metadata": {},
   "outputs": [
    {
     "name": "stdout",
     "output_type": "stream",
     "text": [
      "0\n",
      "1\n",
      "1\n",
      "2\n",
      "1\n",
      "3\n",
      "2\n",
      "5\n",
      "3\n",
      "8\n",
      "5\n",
      "13\n",
      "8\n",
      "21\n",
      "13\n",
      "34\n"
     ]
    }
   ],
   "source": [
    "numbers = [0, 1, 1, 2, 3, 5, 8, 13, 21]\n",
    "count = 0\n",
    "while count < len(numbers)-1:\n",
    "        prev_number = numbers[count]\n",
    "        print(prev_number)\n",
    "        current_number = prev_number + numbers[count+1]\n",
    "        print(current_number)\n",
    "        count+=1"
   ]
  },
  {
   "cell_type": "markdown",
   "id": "697ba285-5890-4d95-b9b3-05fe48ec04f1",
   "metadata": {},
   "source": [
    "# **5. Write a program to use the loop to find the factorial of a given number.**\n",
    "\n",
    "The factorial (symbol: !) means to multiply all whole numbers from the chosen number\n",
    "down to 1.\n",
    "\n",
    "For example: calculate the factorial of 5\n",
    "5! = 5 × 4 × 3 × 2 × 1 = 120\n"
   ]
  },
  {
   "cell_type": "code",
   "execution_count": 5,
   "id": "f1c025c0-be71-4661-8114-4f77d7ebc31f",
   "metadata": {},
   "outputs": [
    {
     "name": "stdout",
     "output_type": "stream",
     "text": [
      "Factorial: 120\n"
     ]
    }
   ],
   "source": [
    "number = 5\n",
    "factorial = 1\n",
    "\n",
    "while number > 1:\n",
    "    factorial *= number\n",
    "    number -= 1\n",
    "\n",
    "print(\"Factorial:\", factorial)\n"
   ]
  },
  {
   "cell_type": "markdown",
   "id": "702189d8-063b-4c58-bc35-c416c399e688",
   "metadata": {},
   "source": [
    "# **6. Write a program to iterate a given list and count the occurrence of each element and print to show the count of each element.**\n",
    "\n",
    "sample_list = [11, 45, 8, 11, 23, 45, 23, 45, 89]\n",
    "\n",
    "Expected Output:\n",
    "\n",
    "Printing count of each item 11: 2, 45: 3, 8: 1, 23: 2, 89: 1"
   ]
  },
  {
   "cell_type": "code",
   "execution_count": 6,
   "id": "eac4d51e-4e30-4a35-b265-af75ada45ddf",
   "metadata": {},
   "outputs": [
    {
     "name": "stdout",
     "output_type": "stream",
     "text": [
      "Printing count of each item: 11: 2, 45: 3, 8: 1, 23: 2, 89: 1, "
     ]
    }
   ],
   "source": [
    "sample_list = [11, 45, 8, 11, 23, 45, 23, 45, 89]\n",
    "\n",
    "element_count = {}\n",
    "\n",
    "for item in sample_list:\n",
    "    if item in element_count:\n",
    "        element_count[item] += 1\n",
    "    else:\n",
    "        element_count[item] = 1\n",
    "\n",
    "print(\"Printing count of each item:\", end=\" \")\n",
    "for key, value in element_count.items():\n",
    "    print(f\"{key}: {value}\", end=\", \")\n"
   ]
  },
  {
   "cell_type": "markdown",
   "id": "ffd4ef34-6577-44c8-8d9d-f9eb689dd612",
   "metadata": {},
   "source": [
    "# **7. Given two lists, l1 and l2, write a program to create a third list l3 by picking an odd-index element from the list l1 and even index elements from the list l2.**\n",
    "\n",
    "Given:\n",
    "\n",
    "l1 = [3, 6, 9, 12, 15, 18, 21]\n",
    "\n",
    "l2 = [4, 8, 12, 16, 20, 24, 28]"
   ]
  },
  {
   "cell_type": "code",
   "execution_count": 12,
   "id": "da62d86b-7ee8-4473-8c6f-e3b7e500d95d",
   "metadata": {},
   "outputs": [
    {
     "name": "stdout",
     "output_type": "stream",
     "text": [
      "List l3: [6, 12, 18, 4, 12, 20, 28]\n"
     ]
    }
   ],
   "source": [
    "l1 = [3, 6, 9, 12, 15, 18, 21]\n",
    "l2 = [4, 8, 12, 16, 20, 24, 28]\n",
    "\n",
    "\n",
    "odd_index  = l1[1::2]\n",
    "even_index = l2[::2]\n",
    "\n",
    "\n",
    "l3 = odd_index + even_index\n",
    "\n",
    "print(\"List l3:\", l3)\n"
   ]
  },
  {
   "cell_type": "code",
   "execution_count": null,
   "id": "331a06a4-d84f-4eaf-a654-5e36d620d0e3",
   "metadata": {},
   "outputs": [],
   "source": []
  }
 ],
 "metadata": {
  "kernelspec": {
   "display_name": "Python 3 (ipykernel)",
   "language": "python",
   "name": "python3"
  },
  "language_info": {
   "codemirror_mode": {
    "name": "ipython",
    "version": 3
   },
   "file_extension": ".py",
   "mimetype": "text/x-python",
   "name": "python",
   "nbconvert_exporter": "python",
   "pygments_lexer": "ipython3",
   "version": "3.11.5"
  }
 },
 "nbformat": 4,
 "nbformat_minor": 5
}
